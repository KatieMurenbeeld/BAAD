{
 "cells": [
  {
   "cell_type": "markdown",
   "metadata": {},
   "source": [
    "### Code for Optimizing FATES Allometric Function\n",
    "\n",
    "In this notebook I will:\n",
    "1. Bring in and subset the baad (Biomass And Allometry Dataset) for ponderosa pine height, diameter at breast height (dbh), and ...\n",
    "2. Define allometric functions for dbh to height (d2h), dbh to above ground biomass (d2bagw), and dbh to leaf biomass (d2blmax). Functions come from FATES technical documentation https://fates-docs.readthedocs.io/en/latest/fates_tech_note.html#allometry-and-growth-along-allometric-curves.\n",
    "3. Use curve fitting and other optimization techniques to determine the parameters for ponderosa pine for use in future FATES runs.\n",
    "\n",
    "### Date_init:l 20 Sept 2019, copied from baad_data_test\n",
    "### Copied: 26 Sept 2019\n",
    "### Author: Katie Murenbeeld\n",
    "### Updated: 26 Mar 2020 (renamed from FATES_Param_Opt-Copy1 to FATES_Param_Allometry)"
   ]
  },
  {
   "cell_type": "markdown",
   "metadata": {},
   "source": [
    "### 1) Bring in and subset observational datasets:\n",
    "Here I will load necessary python libraries, set my data and data output directories, load the observational dataset(s), subset for ponderose pine and desired variables (height, dbh,...), and perform some basic statistics."
   ]
  },
  {
   "cell_type": "code",
   "execution_count": 1,
   "metadata": {},
   "outputs": [],
   "source": [
    "# Load appropriate libraries\n",
    "import xarray as xr\n",
    "import numpy as np\n",
    "import pandas as pd\n",
    "import scipy as sp\n",
    "from scipy import optimize\n",
    "from scipy.optimize import curve_fit\n",
    "import matplotlib.pyplot as plt"
   ]
  },
  {
   "cell_type": "code",
   "execution_count": 2,
   "metadata": {},
   "outputs": [],
   "source": [
    "# Set the directories\n",
    "data_dir = '/Users/kathrynmurenbeeld/Desktop/PROPOSAL/models_modeling/FATES/baad_downloads/baad_data/'\n",
    "data_dir_out = '/Users/kathrynmurenbeeld/Desktop/PROPOSAL/models_modeling/FATES/baad_downloads/baad_data_out/'"
   ]
  },
  {
   "cell_type": "code",
   "execution_count": 4,
   "metadata": {},
   "outputs": [],
   "source": [
    "# Read in the data, Do not have to do once a new subset .csv has been created\n",
    "# df = pd.read_csv(data_dir + 'baad_data_2.csv').reset_index() \n",
    "# df.head(1)\n"
   ]
  },
  {
   "cell_type": "code",
   "execution_count": 5,
   "metadata": {},
   "outputs": [
    {
     "data": {
      "text/html": [
       "<div>\n",
       "<style scoped>\n",
       "    .dataframe tbody tr th:only-of-type {\n",
       "        vertical-align: middle;\n",
       "    }\n",
       "\n",
       "    .dataframe tbody tr th {\n",
       "        vertical-align: top;\n",
       "    }\n",
       "\n",
       "    .dataframe thead th {\n",
       "        text-align: right;\n",
       "    }\n",
       "</style>\n",
       "<table border=\"1\" class=\"dataframe\">\n",
       "  <thead>\n",
       "    <tr style=\"text-align: right;\">\n",
       "      <th></th>\n",
       "      <th>Unnamed: 0</th>\n",
       "      <th>level_0</th>\n",
       "      <th>index</th>\n",
       "      <th>studyName</th>\n",
       "      <th>location</th>\n",
       "      <th>latitude</th>\n",
       "      <th>longitude</th>\n",
       "      <th>vegetation</th>\n",
       "      <th>map</th>\n",
       "      <th>mat</th>\n",
       "      <th>...</th>\n",
       "      <th>r.st</th>\n",
       "      <th>r.ss</th>\n",
       "      <th>r.sb</th>\n",
       "      <th>r.sh</th>\n",
       "      <th>n.lf</th>\n",
       "      <th>n.ss</th>\n",
       "      <th>n.sb</th>\n",
       "      <th>n.sh</th>\n",
       "      <th>n.rf</th>\n",
       "      <th>n.rc</th>\n",
       "    </tr>\n",
       "  </thead>\n",
       "  <tbody>\n",
       "    <tr>\n",
       "      <th>0</th>\n",
       "      <td>0</td>\n",
       "      <td>3428</td>\n",
       "      <td>3428</td>\n",
       "      <td>Brown1978</td>\n",
       "      <td>northern Rocky Mountains U.S.A.</td>\n",
       "      <td>47.44</td>\n",
       "      <td>-115.7</td>\n",
       "      <td>TempF</td>\n",
       "      <td>NaN</td>\n",
       "      <td>NaN</td>\n",
       "      <td>...</td>\n",
       "      <td>NaN</td>\n",
       "      <td>NaN</td>\n",
       "      <td>NaN</td>\n",
       "      <td>NaN</td>\n",
       "      <td>NaN</td>\n",
       "      <td>NaN</td>\n",
       "      <td>NaN</td>\n",
       "      <td>NaN</td>\n",
       "      <td>NaN</td>\n",
       "      <td>NaN</td>\n",
       "    </tr>\n",
       "    <tr>\n",
       "      <th>1</th>\n",
       "      <td>1</td>\n",
       "      <td>3455</td>\n",
       "      <td>3455</td>\n",
       "      <td>Brown1978</td>\n",
       "      <td>northern Rocky Mountains U.S.A.</td>\n",
       "      <td>47.44</td>\n",
       "      <td>-115.7</td>\n",
       "      <td>TempF</td>\n",
       "      <td>NaN</td>\n",
       "      <td>NaN</td>\n",
       "      <td>...</td>\n",
       "      <td>NaN</td>\n",
       "      <td>NaN</td>\n",
       "      <td>NaN</td>\n",
       "      <td>NaN</td>\n",
       "      <td>NaN</td>\n",
       "      <td>NaN</td>\n",
       "      <td>NaN</td>\n",
       "      <td>NaN</td>\n",
       "      <td>NaN</td>\n",
       "      <td>NaN</td>\n",
       "    </tr>\n",
       "    <tr>\n",
       "      <th>2</th>\n",
       "      <td>2</td>\n",
       "      <td>3464</td>\n",
       "      <td>3464</td>\n",
       "      <td>Brown1978</td>\n",
       "      <td>northern Rocky Mountains U.S.A.</td>\n",
       "      <td>47.44</td>\n",
       "      <td>-115.7</td>\n",
       "      <td>TempF</td>\n",
       "      <td>NaN</td>\n",
       "      <td>NaN</td>\n",
       "      <td>...</td>\n",
       "      <td>NaN</td>\n",
       "      <td>NaN</td>\n",
       "      <td>NaN</td>\n",
       "      <td>NaN</td>\n",
       "      <td>NaN</td>\n",
       "      <td>NaN</td>\n",
       "      <td>NaN</td>\n",
       "      <td>NaN</td>\n",
       "      <td>NaN</td>\n",
       "      <td>NaN</td>\n",
       "    </tr>\n",
       "    <tr>\n",
       "      <th>3</th>\n",
       "      <td>3</td>\n",
       "      <td>3470</td>\n",
       "      <td>3470</td>\n",
       "      <td>Brown1978</td>\n",
       "      <td>northern Rocky Mountains U.S.A.</td>\n",
       "      <td>47.44</td>\n",
       "      <td>-115.7</td>\n",
       "      <td>TempF</td>\n",
       "      <td>NaN</td>\n",
       "      <td>NaN</td>\n",
       "      <td>...</td>\n",
       "      <td>NaN</td>\n",
       "      <td>NaN</td>\n",
       "      <td>NaN</td>\n",
       "      <td>NaN</td>\n",
       "      <td>NaN</td>\n",
       "      <td>NaN</td>\n",
       "      <td>NaN</td>\n",
       "      <td>NaN</td>\n",
       "      <td>NaN</td>\n",
       "      <td>NaN</td>\n",
       "    </tr>\n",
       "    <tr>\n",
       "      <th>4</th>\n",
       "      <td>4</td>\n",
       "      <td>3477</td>\n",
       "      <td>3477</td>\n",
       "      <td>Brown1978</td>\n",
       "      <td>northern Rocky Mountains U.S.A.</td>\n",
       "      <td>47.44</td>\n",
       "      <td>-115.7</td>\n",
       "      <td>TempF</td>\n",
       "      <td>NaN</td>\n",
       "      <td>NaN</td>\n",
       "      <td>...</td>\n",
       "      <td>NaN</td>\n",
       "      <td>NaN</td>\n",
       "      <td>NaN</td>\n",
       "      <td>NaN</td>\n",
       "      <td>NaN</td>\n",
       "      <td>NaN</td>\n",
       "      <td>NaN</td>\n",
       "      <td>NaN</td>\n",
       "      <td>NaN</td>\n",
       "      <td>NaN</td>\n",
       "    </tr>\n",
       "  </tbody>\n",
       "</table>\n",
       "<p>5 rows × 65 columns</p>\n",
       "</div>"
      ],
      "text/plain": [
       "   Unnamed: 0  level_0  index  studyName                         location  \\\n",
       "0           0     3428   3428  Brown1978  northern Rocky Mountains U.S.A.   \n",
       "1           1     3455   3455  Brown1978  northern Rocky Mountains U.S.A.   \n",
       "2           2     3464   3464  Brown1978  northern Rocky Mountains U.S.A.   \n",
       "3           3     3470   3470  Brown1978  northern Rocky Mountains U.S.A.   \n",
       "4           4     3477   3477  Brown1978  northern Rocky Mountains U.S.A.   \n",
       "\n",
       "   latitude  longitude vegetation  map  mat  ... r.st  r.ss r.sb r.sh n.lf  \\\n",
       "0     47.44     -115.7      TempF  NaN  NaN  ...  NaN   NaN  NaN  NaN  NaN   \n",
       "1     47.44     -115.7      TempF  NaN  NaN  ...  NaN   NaN  NaN  NaN  NaN   \n",
       "2     47.44     -115.7      TempF  NaN  NaN  ...  NaN   NaN  NaN  NaN  NaN   \n",
       "3     47.44     -115.7      TempF  NaN  NaN  ...  NaN   NaN  NaN  NaN  NaN   \n",
       "4     47.44     -115.7      TempF  NaN  NaN  ...  NaN   NaN  NaN  NaN  NaN   \n",
       "\n",
       "  n.ss n.sb  n.sh n.rf  n.rc  \n",
       "0  NaN  NaN   NaN  NaN   NaN  \n",
       "1  NaN  NaN   NaN  NaN   NaN  \n",
       "2  NaN  NaN   NaN  NaN   NaN  \n",
       "3  NaN  NaN   NaN  NaN   NaN  \n",
       "4  NaN  NaN   NaN  NaN   NaN  \n",
       "\n",
       "[5 rows x 65 columns]"
      ]
     },
     "execution_count": 5,
     "metadata": {},
     "output_type": "execute_result"
    }
   ],
   "source": [
    "# Sort out the ponderosa pine data, do not have to do once a new subset .csv has been created\n",
    "#pipo = df.loc[df['species']=='Pinus ponderosa'].copy().reset_index()\n",
    "# Save the dataframe as a csv\n",
    "#pipo.to_csv(data_dir_out + \"baad_pipo.csv\", sep=',', encoding='utf-8')\n",
    "#pipo.head(5)\n",
    "\n",
    "# Read in the subset data\n",
    "pipo = pd.read_csv(data_dir_out + 'baad_pipo.csv')\n",
    "pipo.head(5)"
   ]
  },
  {
   "cell_type": "code",
   "execution_count": 7,
   "metadata": {},
   "outputs": [
    {
     "data": {
      "text/html": [
       "<div>\n",
       "<style scoped>\n",
       "    .dataframe tbody tr th:only-of-type {\n",
       "        vertical-align: middle;\n",
       "    }\n",
       "\n",
       "    .dataframe tbody tr th {\n",
       "        vertical-align: top;\n",
       "    }\n",
       "\n",
       "    .dataframe thead th {\n",
       "        text-align: right;\n",
       "    }\n",
       "</style>\n",
       "<table border=\"1\" class=\"dataframe\">\n",
       "  <thead>\n",
       "    <tr style=\"text-align: right;\">\n",
       "      <th></th>\n",
       "      <th>location</th>\n",
       "      <th>h.t</th>\n",
       "    </tr>\n",
       "  </thead>\n",
       "  <tbody>\n",
       "    <tr>\n",
       "      <th>0</th>\n",
       "      <td>Priest River Experimental Forest</td>\n",
       "      <td>41.160003</td>\n",
       "    </tr>\n",
       "    <tr>\n",
       "      <th>1</th>\n",
       "      <td>Pringle Butte and Lookout Mountain</td>\n",
       "      <td>13.700000</td>\n",
       "    </tr>\n",
       "    <tr>\n",
       "      <th>2</th>\n",
       "      <td>central Oregon, USA</td>\n",
       "      <td>20.150000</td>\n",
       "    </tr>\n",
       "    <tr>\n",
       "      <th>3</th>\n",
       "      <td>eastern side of the Oregon Cascade Range, USA ...</td>\n",
       "      <td>35.750000</td>\n",
       "    </tr>\n",
       "    <tr>\n",
       "      <th>4</th>\n",
       "      <td>northern Rocky Mountains U.S.A.</td>\n",
       "      <td>44.013120</td>\n",
       "    </tr>\n",
       "    <tr>\n",
       "      <th>5</th>\n",
       "      <td>western Montana, USA</td>\n",
       "      <td>22.070000</td>\n",
       "    </tr>\n",
       "  </tbody>\n",
       "</table>\n",
       "</div>"
      ],
      "text/plain": [
       "                                            location        h.t\n",
       "0                   Priest River Experimental Forest  41.160003\n",
       "1                 Pringle Butte and Lookout Mountain  13.700000\n",
       "2                                central Oregon, USA  20.150000\n",
       "3  eastern side of the Oregon Cascade Range, USA ...  35.750000\n",
       "4                    northern Rocky Mountains U.S.A.  44.013120\n",
       "5                               western Montana, USA  22.070000"
      ]
     },
     "execution_count": 7,
     "metadata": {},
     "output_type": "execute_result"
    }
   ],
   "source": [
    "# Review the max height by location\n",
    "max_h = pipo.groupby('location')['h.t'].max().reset_index()\n",
    "max_h"
   ]
  },
  {
   "cell_type": "code",
   "execution_count": 8,
   "metadata": {},
   "outputs": [
    {
     "data": {
      "text/html": [
       "<div>\n",
       "<style scoped>\n",
       "    .dataframe tbody tr th:only-of-type {\n",
       "        vertical-align: middle;\n",
       "    }\n",
       "\n",
       "    .dataframe tbody tr th {\n",
       "        vertical-align: top;\n",
       "    }\n",
       "\n",
       "    .dataframe thead th {\n",
       "        text-align: right;\n",
       "    }\n",
       "</style>\n",
       "<table border=\"1\" class=\"dataframe\">\n",
       "  <thead>\n",
       "    <tr style=\"text-align: right;\">\n",
       "      <th></th>\n",
       "      <th>location</th>\n",
       "      <th>h.t</th>\n",
       "    </tr>\n",
       "  </thead>\n",
       "  <tbody>\n",
       "    <tr>\n",
       "      <th>0</th>\n",
       "      <td>Priest River Experimental Forest</td>\n",
       "      <td>3.57000</td>\n",
       "    </tr>\n",
       "    <tr>\n",
       "      <th>1</th>\n",
       "      <td>Pringle Butte and Lookout Mountain</td>\n",
       "      <td>2.11000</td>\n",
       "    </tr>\n",
       "    <tr>\n",
       "      <th>2</th>\n",
       "      <td>central Oregon, USA</td>\n",
       "      <td>1.66000</td>\n",
       "    </tr>\n",
       "    <tr>\n",
       "      <th>3</th>\n",
       "      <td>eastern side of the Oregon Cascade Range, USA ...</td>\n",
       "      <td>2.99614</td>\n",
       "    </tr>\n",
       "    <tr>\n",
       "      <th>4</th>\n",
       "      <td>northern Rocky Mountains U.S.A.</td>\n",
       "      <td>0.70104</td>\n",
       "    </tr>\n",
       "    <tr>\n",
       "      <th>5</th>\n",
       "      <td>western Montana, USA</td>\n",
       "      <td>1.75000</td>\n",
       "    </tr>\n",
       "  </tbody>\n",
       "</table>\n",
       "</div>"
      ],
      "text/plain": [
       "                                            location      h.t\n",
       "0                   Priest River Experimental Forest  3.57000\n",
       "1                 Pringle Butte and Lookout Mountain  2.11000\n",
       "2                                central Oregon, USA  1.66000\n",
       "3  eastern side of the Oregon Cascade Range, USA ...  2.99614\n",
       "4                    northern Rocky Mountains U.S.A.  0.70104\n",
       "5                               western Montana, USA  1.75000"
      ]
     },
     "execution_count": 8,
     "metadata": {},
     "output_type": "execute_result"
    }
   ],
   "source": [
    "# Review the min height by location\n",
    "min_h = pipo.groupby('location')['h.t'].min().reset_index()\n",
    "min_h"
   ]
  },
  {
   "cell_type": "code",
   "execution_count": 9,
   "metadata": {},
   "outputs": [
    {
     "data": {
      "text/html": [
       "<div>\n",
       "<style scoped>\n",
       "    .dataframe tbody tr th:only-of-type {\n",
       "        vertical-align: middle;\n",
       "    }\n",
       "\n",
       "    .dataframe tbody tr th {\n",
       "        vertical-align: top;\n",
       "    }\n",
       "\n",
       "    .dataframe thead th {\n",
       "        text-align: right;\n",
       "    }\n",
       "</style>\n",
       "<table border=\"1\" class=\"dataframe\">\n",
       "  <thead>\n",
       "    <tr style=\"text-align: right;\">\n",
       "      <th></th>\n",
       "      <th>location</th>\n",
       "      <th>h.t</th>\n",
       "    </tr>\n",
       "  </thead>\n",
       "  <tbody>\n",
       "    <tr>\n",
       "      <th>0</th>\n",
       "      <td>Priest River Experimental Forest</td>\n",
       "      <td>25.640909</td>\n",
       "    </tr>\n",
       "    <tr>\n",
       "      <th>1</th>\n",
       "      <td>Pringle Butte and Lookout Mountain</td>\n",
       "      <td>9.044694</td>\n",
       "    </tr>\n",
       "    <tr>\n",
       "      <th>2</th>\n",
       "      <td>central Oregon, USA</td>\n",
       "      <td>7.442581</td>\n",
       "    </tr>\n",
       "    <tr>\n",
       "      <th>3</th>\n",
       "      <td>eastern side of the Oregon Cascade Range, USA ...</td>\n",
       "      <td>18.044303</td>\n",
       "    </tr>\n",
       "    <tr>\n",
       "      <th>4</th>\n",
       "      <td>northern Rocky Mountains U.S.A.</td>\n",
       "      <td>11.788987</td>\n",
       "    </tr>\n",
       "    <tr>\n",
       "      <th>5</th>\n",
       "      <td>western Montana, USA</td>\n",
       "      <td>8.865385</td>\n",
       "    </tr>\n",
       "  </tbody>\n",
       "</table>\n",
       "</div>"
      ],
      "text/plain": [
       "                                            location        h.t\n",
       "0                   Priest River Experimental Forest  25.640909\n",
       "1                 Pringle Butte and Lookout Mountain   9.044694\n",
       "2                                central Oregon, USA   7.442581\n",
       "3  eastern side of the Oregon Cascade Range, USA ...  18.044303\n",
       "4                    northern Rocky Mountains U.S.A.  11.788987\n",
       "5                               western Montana, USA   8.865385"
      ]
     },
     "execution_count": 9,
     "metadata": {},
     "output_type": "execute_result"
    }
   ],
   "source": [
    "# Review the mean height by location\n",
    "mean_h = pipo.groupby('location')['h.t'].mean().reset_index()\n",
    "mean_h"
   ]
  },
  {
   "cell_type": "code",
   "execution_count": 10,
   "metadata": {},
   "outputs": [
    {
     "data": {
      "text/plain": [
       "count    272.000000\n",
       "mean      11.368276\n",
       "std        9.679318\n",
       "min        0.598000\n",
       "25%        3.687500\n",
       "50%        8.627920\n",
       "75%       14.212500\n",
       "max       44.013120\n",
       "Name: h.t, dtype: float64"
      ]
     },
     "execution_count": 10,
     "metadata": {},
     "output_type": "execute_result"
    }
   ],
   "source": [
    "# Review basic stats on height\n",
    "pipo['h.t'].describe()"
   ]
  },
  {
   "cell_type": "code",
   "execution_count": 11,
   "metadata": {},
   "outputs": [
    {
     "data": {
      "text/plain": [
       "count    263.000000\n",
       "mean       0.202426\n",
       "std        0.184924\n",
       "min        0.007620\n",
       "25%        0.077100\n",
       "50%        0.147320\n",
       "75%        0.248910\n",
       "max        0.863600\n",
       "Name: d.bh, dtype: float64"
      ]
     },
     "execution_count": 11,
     "metadata": {},
     "output_type": "execute_result"
    }
   ],
   "source": [
    "# Review basic stats on dbh\n",
    "pipo['d.bh'].describe()"
   ]
  },
  {
   "cell_type": "code",
   "execution_count": 10,
   "metadata": {},
   "outputs": [
    {
     "data": {
      "text/plain": [
       "count    268.000000\n",
       "mean       1.355336\n",
       "std        0.045775\n",
       "min        1.300000\n",
       "25%        1.300000\n",
       "50%        1.370000\n",
       "75%        1.400000\n",
       "max        1.400000\n",
       "Name: h.bh, dtype: float64"
      ]
     },
     "execution_count": 10,
     "metadata": {},
     "output_type": "execute_result"
    }
   ],
   "source": [
    "# Review basic stats, height where dbh measurements taken\n",
    "pipo['h.bh'].describe()"
   ]
  },
  {
   "cell_type": "code",
   "execution_count": 11,
   "metadata": {},
   "outputs": [
    {
     "data": {
      "text/html": [
       "<div>\n",
       "<style scoped>\n",
       "    .dataframe tbody tr th:only-of-type {\n",
       "        vertical-align: middle;\n",
       "    }\n",
       "\n",
       "    .dataframe tbody tr th {\n",
       "        vertical-align: top;\n",
       "    }\n",
       "\n",
       "    .dataframe thead th {\n",
       "        text-align: right;\n",
       "    }\n",
       "</style>\n",
       "<table border=\"1\" class=\"dataframe\">\n",
       "  <thead>\n",
       "    <tr style=\"text-align: right;\">\n",
       "      <th></th>\n",
       "      <th>10</th>\n",
       "    </tr>\n",
       "  </thead>\n",
       "  <tbody>\n",
       "    <tr>\n",
       "      <th>count</th>\n",
       "      <td>87.000000</td>\n",
       "    </tr>\n",
       "    <tr>\n",
       "      <th>mean</th>\n",
       "      <td>6.235619</td>\n",
       "    </tr>\n",
       "    <tr>\n",
       "      <th>std</th>\n",
       "      <td>2.370563</td>\n",
       "    </tr>\n",
       "    <tr>\n",
       "      <th>min</th>\n",
       "      <td>2.700000</td>\n",
       "    </tr>\n",
       "    <tr>\n",
       "      <th>25%</th>\n",
       "      <td>4.236720</td>\n",
       "    </tr>\n",
       "    <tr>\n",
       "      <th>50%</th>\n",
       "      <td>5.849999</td>\n",
       "    </tr>\n",
       "    <tr>\n",
       "      <th>75%</th>\n",
       "      <td>8.010000</td>\n",
       "    </tr>\n",
       "    <tr>\n",
       "      <th>max</th>\n",
       "      <td>14.130000</td>\n",
       "    </tr>\n",
       "  </tbody>\n",
       "</table>\n",
       "</div>"
      ],
      "text/plain": [
       "              10\n",
       "count  87.000000\n",
       "mean    6.235619\n",
       "std     2.370563\n",
       "min     2.700000\n",
       "25%     4.236720\n",
       "50%     5.849999\n",
       "75%     8.010000\n",
       "max    14.130000"
      ]
     },
     "execution_count": 11,
     "metadata": {},
     "output_type": "execute_result"
    }
   ],
   "source": [
    "# Create data frames and show stats for height at specified dbh by showing only data collected for specific dbh.\n",
    "# Here for a dbh of 10cm I took the measurements from 5-15cm to represent 10cm dbh. \n",
    "# Repeat the process up to 90cm.\n",
    "\n",
    "mask10 = (pipo['d.bh'] >= 0.05) & (pipo['d.bh'] < 0.15)\n",
    "pipo_10 = pipo.loc[mask10].copy()\n",
    "pipo_10_stats = pd.DataFrame(pipo_10['h.t'].describe())\n",
    "pipo_10_stats = pipo_10_stats.rename(columns={\"h.t\": \"10\"})\n",
    "pipo_10_stats"
   ]
  },
  {
   "cell_type": "code",
   "execution_count": 12,
   "metadata": {},
   "outputs": [
    {
     "data": {
      "text/plain": [
       "[10, 20, 30, 40, 50, 60, 70, 80, 90]"
      ]
     },
     "execution_count": 12,
     "metadata": {},
     "output_type": "execute_result"
    }
   ],
   "source": [
    "# Set dbh_mod to the ranges of dbh needed for calculation. In this case I want an array from 10-90 in steps of 10.\n",
    "dbh_mod = [10,20,30,40,50,60,70,80,90]\n",
    "dbh_mod"
   ]
  },
  {
   "cell_type": "code",
   "execution_count": 13,
   "metadata": {},
   "outputs": [
    {
     "name": "stdout",
     "output_type": "stream",
     "text": [
      "count     1.00000\n",
      "mean     44.01312\n",
      "std           NaN\n",
      "min      44.01312\n",
      "25%      44.01312\n",
      "50%      44.01312\n",
      "75%      44.01312\n",
      "max      44.01312\n",
      "Name: h.t, dtype: float64\n"
     ]
    }
   ],
   "source": [
    "#pipo_stats = pd.DataFrame({'10': [], '20': [], '30': [], '40': [], '50': [], '60': [], '70': [], '80': [], '90': []})\n",
    "# Just do for mean or can do separately for mean, min, and max\n",
    "pipo_stats = []\n",
    "\n",
    "for i in dbh_mod:\n",
    "    mask =  (pipo['d.bh']>= ((i/100) - 0.05)) & (pipo['d.bh']<((i/100) + 0.05))\n",
    "    pipo_ = pipo.loc[mask].copy()\n",
    "    stats = pipo_['h.t'].describe()\n",
    "    #stats = pd.DataFrame(stats)\n",
    "    pipo_stats.append(stats)\n",
    "    #pipo_stats = pipo_stats.append({'10': [stats], \n",
    "     #                               '20': [], \n",
    "     #                               '30': [], \n",
    "     #                               '40': [], \n",
    "     #                               '50': [], \n",
    "     #                               '60': [], \n",
    "     #                               '70': [], \n",
    "     #                               '80': [], \n",
    "     #                               '90': []}, \n",
    "     #                                ignore_index=True)\n",
    "print(stats)"
   ]
  },
  {
   "cell_type": "code",
   "execution_count": 14,
   "metadata": {},
   "outputs": [
    {
     "data": {
      "text/plain": [
       "[count    87.000000\n",
       " mean      6.235619\n",
       " std       2.370563\n",
       " min       2.700000\n",
       " 25%       4.236720\n",
       " 50%       5.849999\n",
       " 75%       8.010000\n",
       " max      14.130000\n",
       " Name: h.t, dtype: float64, count    65.000000\n",
       " mean     12.496336\n",
       " std       4.176828\n",
       " min       4.200000\n",
       " 25%       9.930000\n",
       " 50%      11.590000\n",
       " 75%      13.480000\n",
       " max      25.940001\n",
       " Name: h.t, dtype: float64, count    27.000000\n",
       " mean     16.818619\n",
       " std       4.353811\n",
       " min      11.100000\n",
       " 25%      13.145000\n",
       " 50%      15.422880\n",
       " 75%      20.391040\n",
       " max      27.690001\n",
       " Name: h.t, dtype: float64, count     9.000000\n",
       " mean     25.094845\n",
       " std       6.992114\n",
       " min      13.380000\n",
       " 25%      21.976080\n",
       " 50%      22.070000\n",
       " 75%      29.110001\n",
       " max      35.580000\n",
       " Name: h.t, dtype: float64, count     7.000000\n",
       " mean     29.024812\n",
       " std       6.544419\n",
       " min      23.378160\n",
       " 25%      24.292560\n",
       " 50%      26.060400\n",
       " 75%      31.995000\n",
       " max      41.160003\n",
       " Name: h.t, dtype: float64, count     8.000000\n",
       " mean     31.678050\n",
       " std       4.255973\n",
       " min      23.835360\n",
       " 25%      30.449759\n",
       " 50%      33.050000\n",
       " 75%      34.435000\n",
       " max      35.809999\n",
       " Name: h.t, dtype: float64, count     9.000000\n",
       " mean     32.927368\n",
       " std       4.133912\n",
       " min      23.896320\n",
       " 25%      31.929997\n",
       " 50%      32.900000\n",
       " 75%      34.200000\n",
       " max      39.369999\n",
       " Name: h.t, dtype: float64, count     4.000000\n",
       " mean     34.490560\n",
       " std       1.666524\n",
       " min      33.300000\n",
       " 25%      33.375000\n",
       " 50%      33.890720\n",
       " 75%      35.006280\n",
       " max      36.880800\n",
       " Name: h.t, dtype: float64, count     1.00000\n",
       " mean     44.01312\n",
       " std           NaN\n",
       " min      44.01312\n",
       " 25%      44.01312\n",
       " 50%      44.01312\n",
       " 75%      44.01312\n",
       " max      44.01312\n",
       " Name: h.t, dtype: float64]"
      ]
     },
     "execution_count": 14,
     "metadata": {},
     "output_type": "execute_result"
    }
   ],
   "source": [
    "pipo_stats"
   ]
  },
  {
   "cell_type": "markdown",
   "metadata": {},
   "source": [
    "^^ You can work on that for loop later. Get back to the actual functions. Could probably just print out the means ^^"
   ]
  },
  {
   "cell_type": "code",
   "execution_count": 15,
   "metadata": {},
   "outputs": [],
   "source": [
    "mask20 = (pipo['d.bh'] >= 0.15) & (pipo['d.bh'] < 0.25)\n",
    "pipo_20 = pipo.loc[mask20].copy()\n",
    "#pipo_20['h.t'].describe()"
   ]
  },
  {
   "cell_type": "code",
   "execution_count": 16,
   "metadata": {},
   "outputs": [],
   "source": [
    "mask30 = (pipo['d.bh'] >= 0.25) & (pipo['d.bh'] < 0.35)\n",
    "pipo_30 = pipo.loc[mask30].copy()\n",
    "#pipo_30['h.t'].describe()"
   ]
  },
  {
   "cell_type": "code",
   "execution_count": 17,
   "metadata": {},
   "outputs": [],
   "source": [
    "mask40 = (pipo['d.bh'] >= 0.35) & (pipo['d.bh'] < 0.45)\n",
    "pipo_40 = pipo.loc[mask40].copy()\n",
    "#pipo_40['h.t'].describe()"
   ]
  },
  {
   "cell_type": "code",
   "execution_count": 18,
   "metadata": {},
   "outputs": [],
   "source": [
    "mask50 = (pipo['d.bh'] >= 0.45) & (pipo['d.bh'] < 0.55)\n",
    "pipo_50 = pipo.loc[mask50].copy()\n",
    "#pipo_50['h.t'].describe()"
   ]
  },
  {
   "cell_type": "code",
   "execution_count": 19,
   "metadata": {},
   "outputs": [],
   "source": [
    "mask60 = (pipo['d.bh'] >= 0.55) & (pipo['d.bh'] < 0.65)\n",
    "pipo_60 = pipo.loc[mask60].copy()\n",
    "#pipo_60['h.t'].describe()"
   ]
  },
  {
   "cell_type": "code",
   "execution_count": 20,
   "metadata": {},
   "outputs": [],
   "source": [
    "mask70 = (pipo['d.bh'] >= 0.65) & (pipo['d.bh'] < 0.75)\n",
    "pipo_70 = pipo.loc[mask70].copy()\n",
    "#pipo_70['h.t'].describe()"
   ]
  },
  {
   "cell_type": "code",
   "execution_count": 21,
   "metadata": {},
   "outputs": [],
   "source": [
    "mask80 = (pipo['d.bh'] >= 0.75) & (pipo['d.bh'] < 0.85)\n",
    "pipo_80 = pipo.loc[mask80].copy()\n",
    "#pipo_80['h.t'].describe()"
   ]
  },
  {
   "cell_type": "code",
   "execution_count": 22,
   "metadata": {},
   "outputs": [],
   "source": [
    "mask90 = (pipo['d.bh'] >= 0.85) & (pipo['d.bh'] < 0.95)\n",
    "pipo_90 = pipo.loc[mask90].copy()\n",
    "#pipo_90['h.t'].describe()"
   ]
  },
  {
   "cell_type": "code",
   "execution_count": 23,
   "metadata": {},
   "outputs": [],
   "source": [
    "#mask100 = (pipo['d.bh'] >= 0.95)\n",
    "#pipo_100 = pipo.loc[mask100].copy()\n",
    "#pipo_100['h.t'].describe()"
   ]
  },
  {
   "cell_type": "markdown",
   "metadata": {},
   "source": [
    "#### 2. FATES allometric functions\n",
    "Here I will define the allometric functions used in FATES."
   ]
  },
  {
   "cell_type": "code",
   "execution_count": 24,
   "metadata": {},
   "outputs": [],
   "source": [
    "# Set the variables for dbh, height, dbh_mod (may have been done above), and other variables of interest. \n",
    "#pipo['d.bh'] *= 100 # Comment this out after the first time you run this block of code.\n",
    "DBH = pipo['d.bh'].values # dbh values from baad\n",
    "H = pipo['h.t'].values # height values from baad\n",
    "BL = pipo['m.lf'].values # leaf biomass values from baad\n",
    "dbh_mod =[10,20,30,40,50,60,70,80,90] # dbh range to calculate height\n",
    "Hobs = [6.2, 12.5, 16.8, 25.1, 29, 31.7, 32.9, 34.5, 44] # Mean height from baad data at dbh_mod (see section 1)\n",
    "BLobs = [2.6,8.6,22.3,31.7,67.4,69.7,95.3,123.7,227.3] # Mean leaf biomass from baad data at dbh_mod (see section 1)"
   ]
  },
  {
   "cell_type": "code",
   "execution_count": 26,
   "metadata": {},
   "outputs": [],
   "source": [
    "#DBH"
   ]
  },
  {
   "cell_type": "markdown",
   "metadata": {},
   "source": [
    "#### 2.1  Diameter to height function, d2h.\n",
    "This equation is from O'Brien et al., 1995."
   ]
  },
  {
   "cell_type": "code",
   "execution_count": 27,
   "metadata": {},
   "outputs": [],
   "source": [
    "# Define the diameter to height function\n",
    "def d2h(dbh,p1,p2):\n",
    "    h = 10**((np.log10(dbh))*p1+p2)\n",
    "    return h\n"
   ]
  },
  {
   "cell_type": "code",
   "execution_count": 28,
   "metadata": {},
   "outputs": [
    {
     "data": {
      "text/plain": [
       "7.943282347242813"
      ]
     },
     "execution_count": 28,
     "metadata": {},
     "output_type": "execute_result"
    }
   ],
   "source": [
    "# Test the function with the default parameters\n",
    "d2h(10,0.7,0.2)"
   ]
  },
  {
   "cell_type": "code",
   "execution_count": 29,
   "metadata": {},
   "outputs": [],
   "source": [
    "# If you would like you can define an objective/cost function for the d2h function. In this case RMSE.\n",
    "# Then I want to create an objective function. I will use RMSE\n",
    "\n",
    "\n",
    "#def d2h_error(dbh,Hobs,p1,p2):\n",
    "#    h = 10**((np.log10(dbh))*p1+p2)\n",
    "#    RMSE = np.sqrt(np.mean((h-Hobs)**2)) # best to use numpy\n",
    "#    return RMSE"
   ]
  },
  {
   "cell_type": "code",
   "execution_count": 30,
   "metadata": {},
   "outputs": [],
   "source": [
    "#RMSE = d2h_error(10,6.24,0.65,0.18)\n",
    "#print(RMSE)"
   ]
  },
  {
   "cell_type": "code",
   "execution_count": 31,
   "metadata": {},
   "outputs": [
    {
     "data": {
      "text/plain": [
       "[7.943282347242813,\n",
       " 12.90390024296432,\n",
       " 17.138976302810292,\n",
       " 20.962447789379144,\n",
       " 24.50637094697448,\n",
       " 27.842349146100794,\n",
       " 31.014774509620494,\n",
       " 34.05359690083137,\n",
       " 36.98024265878632]"
      ]
     },
     "execution_count": 31,
     "metadata": {},
     "output_type": "execute_result"
    }
   ],
   "source": [
    "# Use the d2h function to model the heights at dbh from 10-90cm at 10cm intervals\n",
    "hmod = []\n",
    "\n",
    "for i in dbh_mod:\n",
    "    test = d2h(i, 0.7, 0.2)\n",
    "    hmod.append(test)\n",
    "\n",
    "# Check the output\n",
    "hmod"
   ]
  },
  {
   "cell_type": "code",
   "execution_count": 32,
   "metadata": {},
   "outputs": [
    {
     "data": {
      "text/plain": [
       "array([0.76566155, 0.12529131])"
      ]
     },
     "execution_count": 32,
     "metadata": {},
     "output_type": "execute_result"
    }
   ],
   "source": [
    "# Use the curve_fit tool from optimize library to determine the best fit params for the baad ponoderosa pine data\n",
    "# curve_fit(func, independent variables, observed dependent variables)\n",
    "# popt = array of optimum parameter values\n",
    "# pcov = array of covariance?\n",
    "# Curve fit uses the Levenberg-Marquardt algorithm through leastsq (least squares).\n",
    "\n",
    "popt, pcov = curve_fit(d2h, dbh_mod, Hobs) \n",
    "\n",
    "# Check the results\n",
    "popt"
   ]
  },
  {
   "cell_type": "code",
   "execution_count": 33,
   "metadata": {},
   "outputs": [
    {
     "data": {
      "text/plain": [
       "[7.779521002261802,\n",
       " 13.22634816884168,\n",
       " 18.041234739745235,\n",
       " 22.486768251227932,\n",
       " 26.676405777690697,\n",
       " 30.672794892422882,\n",
       " 34.515322310972266,\n",
       " 38.230866141543316,\n",
       " 41.83884211379585]"
      ]
     },
     "execution_count": 33,
     "metadata": {},
     "output_type": "execute_result"
    }
   ],
   "source": [
    "# Model heights using the optimal parameters\n",
    "hopt = [] # height with popt\n",
    "\n",
    "for i in dbh_mod:\n",
    "    test = d2h(i, popt[0], popt[1])\n",
    "    hopt.append(test)\n",
    "\n",
    "hopt"
   ]
  },
  {
   "cell_type": "code",
   "execution_count": 210,
   "metadata": {},
   "outputs": [
    {
     "data": {
      "image/png": "[encoded data removed]",
      "text/plain": [
       "<Figure size 864x576 with 1 Axes>"
      ]
     },
     "metadata": {
      "needs_background": "light"
     },
     "output_type": "display_data"
    }
   ],
   "source": [
    "# Visually inspect the results from the curve fitting\n",
    "\n",
    "fig = plt.figure(figsize = (12,8))\n",
    "\n",
    "plt.scatter(DBH,H,  c='k', alpha=0.3, marker ='o', label='Observed')\n",
    "plt.plot(dbh_mod,Hobs, c='b', label='Observed: Average Height at DBH')\n",
    "plt.plot(dbh_mod, hopt, c='r', label ='Modeled Heights')\n",
    "plt.xlabel('dbh (cm)')\n",
    "plt.ylabel('Height (m)')\n",
    "plt.text(0,37, \"H = 10^log10(dbh)*p1+p2\")\n",
    "plt.text(0,35, \"p1=0.766, p2=0.125\")\n",
    "plt.legend()\n",
    "plt.title(\"Height vs Diameter at Breast Height (dbh)\")\n",
    "plt.savefig(data_dir_out + 'd2h.png', edgecolor='black', bbox_inches='tight', pad_inches=0.25)\n",
    "plt.show()"
   ]
  },
  {
   "cell_type": "markdown",
   "metadata": {},
   "source": [
    "#### 2.2 Diameter to above ground biomass (d2bagw)\n",
    "Here I will test the Chojnacky (2014), the Saldarriaga et al. (1998) and the FATES 2 parameter power functions."
   ]
  },
  {
   "cell_type": "code",
   "execution_count": 133,
   "metadata": {},
   "outputs": [],
   "source": [
    "# Define the Chojnacky diameter to above ground biomass function (d2bagw_choj) \n",
    "def d2bagw_choj(dbh,p1,p2):\n",
    "    ln_agb = p1+(p2*np.log(dbh))\n",
    "    agb_choj = np.exp(ln_agb)\n",
    "    return agb_choj\n",
    "\n",
    "# Define the Saldarriaga diameter to above ground biomass function (d2bagw_sal) \n",
    "# Need to fix this so that h changes with dbh\n",
    "def d2bagw_sal(dbh,p1,p2,p3,p4):\n",
    "    agb_sal = allom_frac * p1 * (h_sal_mod**p2) * (dbh**p3) * (rho**p4)\n",
    "    return agb_sal\n",
    "\n",
    "# Define the 2-parameter power function (d2bagw_pow)\n",
    "def d2bagw_pow(dbh,p1,p2):\n",
    "    agb_pow = (p1*np.power(dbh,p2))/c2b\n",
    "    return agb_pow"
   ]
  },
  {
   "cell_type": "code",
   "execution_count": 134,
   "metadata": {},
   "outputs": [],
   "source": [
    "# Define constants for the functions\n",
    "\n",
    "# In d2bagw_sal\n",
    "allom_frac = 0.6 \n",
    "rho = 0.367 # Density of tree from USDA Survey of Tree Density, value for S. Idaho ponderosa pine\n",
    "h_sal_mod = 29 # Observed height at dbh=50 from baad\n",
    "# In d2bagw_pow\n",
    "c2b = 2"
   ]
  },
  {
   "cell_type": "code",
   "execution_count": 135,
   "metadata": {},
   "outputs": [],
   "source": [
    "# From Delucia (2000), in montane ponderosa pine at dbh=50, agb=945. We will use this as a guide.\n",
    "# We need to create an objective/cost function. Use RMSE for now.\n",
    "\n",
    "def RMSE_d2bagw(agb_mod):\n",
    "    RMSE_d2bagw = np.sqrt(np.mean((agb_mod-agb_obs)**2)) \n",
    "    return RMSE_d2bagw\n",
    "\n",
    "# For d2abagw we will calculate the "
   ]
  },
  {
   "cell_type": "code",
   "execution_count": 137,
   "metadata": {},
   "outputs": [
    {
     "name": "stdout",
     "output_type": "stream",
     "text": [
      "agb_choj = 1119.6173798341167 agb_sal= 842.7607906352225 agb_pow= 597.720312368773\n"
     ]
    }
   ],
   "source": [
    "# Test the functions at dbh=50 to find RMSE for observed agb at dbh 50.\n",
    "dbh_bagw = 50\n",
    "agb_obs=945\n",
    "\n",
    "# Chojnacky with default parameters for pines with density < 0.45\n",
    "agb_choj = d2bagw_choj(dbh_bagw,-2.6177,2.4638)\n",
    "\n",
    "# Saldarriaga with default parameters\n",
    "agb_sal = d2bagw_sal(dbh_bagw,0.284,0.57,1.94,1)\n",
    "\n",
    "# 2-parameter with default parameters\n",
    "agb_pow = d2bagw_pow(dbh_bagw,0.1,2.4)\n",
    "\n",
    "print(\"agb_choj =\", agb_choj, \"agb_sal=\",agb_sal,\"agb_pow=\",agb_pow)"
   ]
  },
  {
   "cell_type": "code",
   "execution_count": 138,
   "metadata": {},
   "outputs": [
    {
     "name": "stdout",
     "output_type": "stream",
     "text": [
      "choj RMSE= 174.61737983411672 , sal RMSE= 102.23920936477748 , power RMSE= 347.27968763122703\n"
     ]
    }
   ],
   "source": [
    "# Calculate the RMSE for each of the functions\n",
    "\n",
    "RMSE_choj = RMSE_d2bagw(agb_choj)\n",
    "\n",
    "RMSE_sal = RMSE_d2bagw(agb_sal)\n",
    "\n",
    "RMSE_pow = RMSE_d2bagw(agb_pow)\n",
    "\n",
    "print(\"choj RMSE=\",RMSE_choj,\", sal RMSE=\",RMSE_sal,\", power RMSE=\",RMSE_pow)"
   ]
  },
  {
   "cell_type": "markdown",
   "metadata": {},
   "source": [
    "Well, they are all terrible.  How can I make them fit better?"
   ]
  },
  {
   "cell_type": "code",
   "execution_count": 139,
   "metadata": {},
   "outputs": [
    {
     "data": {
      "text/plain": [
       "[21.22986999644574,\n",
       " 117.118375014528,\n",
       " 318.03775715991225,\n",
       " 646.1044635855067,\n",
       " 1119.6173798341167,\n",
       " 1754.5121716746257,\n",
       " 2565.0739237402427,\n",
       " 3564.3508357534165,\n",
       " 4764.419894998952]"
      ]
     },
     "execution_count": 139,
     "metadata": {},
     "output_type": "execute_result"
    }
   ],
   "source": [
    "\n",
    "# Use the d2bagw functions to model the heights at dbh from 10-90cm at 10cm intervals\n",
    "# Chojnacky with default parameters for pines with density < 0.45\n",
    "choj_mod = []\n",
    "\n",
    "for i in dbh_mod:\n",
    "    test_choj = d2bagw_choj(i, -2.6177, 2.4638)\n",
    "    choj_mod.append(test_choj)\n",
    "\n",
    "# Check the output. choj_mod will serve as the observed values for the curve fitting process.\n",
    "choj_mod"
   ]
  },
  {
   "cell_type": "code",
   "execution_count": 140,
   "metadata": {},
   "outputs": [
    {
     "data": {
      "text/plain": [
       "array([0.145941, 2.4638  ])"
      ]
     },
     "execution_count": 140,
     "metadata": {},
     "output_type": "execute_result"
    }
   ],
   "source": [
    "# Find the best fit params for the 2-param (d2bagw_pow)\n",
    "\n",
    "agbpow_opt, agb_pow_cov = curve_fit(d2bagw_pow, dbh_mod, choj_mod) \n",
    "\n",
    "# Check the results\n",
    "agbpow_opt"
   ]
  },
  {
   "cell_type": "code",
   "execution_count": 141,
   "metadata": {},
   "outputs": [
    {
     "data": {
      "text/plain": [
       "array([0.13128296, 0.62642287, 2.4638    , 2.18060605])"
      ]
     },
     "execution_count": 141,
     "metadata": {},
     "output_type": "execute_result"
    }
   ],
   "source": [
    "# Find the best fit params for the Saldarriaga functions (d2bagw_sal).\n",
    "\n",
    "agb_sal_opt, agb_sal_cov = curve_fit(d2bagw_sal, dbh_mod, choj_mod) \n",
    "\n",
    "# Check the results\n",
    "agb_sal_opt"
   ]
  },
  {
   "cell_type": "code",
   "execution_count": 193,
   "metadata": {},
   "outputs": [],
   "source": [
    "# Saldarriaga with best fit parameters. Work on this later...won't use this function anyways (most likely)\n",
    "# Need to make a nested loop so that the h with also change with dbh. May need to re define the function.\n",
    "\n",
    "#sal_opt = []\n",
    "#h_sal_mod = np.array(hmod, dtype=np.int)\n",
    "#h_sal_mod = [int(x) for x in hmod]\n",
    "# work on this later...won't use this function anyways (most likely)\n",
    "#for i in dbh_mod:\n",
    "#    for j in range(len(h_sal_mod)):\n",
    "        #h_sal_mod = j\n",
    "#        h_sal_mod = h_sal_mod[j]\n",
    "#        sal_test_opt = d2bagw_sal(i,agb_sal_opt[0],agb_sal_opt[1],agb_sal_opt[2],agb_sal_opt[3])\n",
    "#        sal_opt.append(sal_test_opt)\n",
    "\n",
    "# Check the output\n",
    "#sal_opt"
   ]
  },
  {
   "cell_type": "code",
   "execution_count": 194,
   "metadata": {},
   "outputs": [
    {
     "data": {
      "text/plain": [
       "[21.229869996445633,\n",
       " 117.11837501452763,\n",
       " 318.0377571599114,\n",
       " 646.1044635855059,\n",
       " 1119.617379834116,\n",
       " 1754.5121716746246,\n",
       " 2565.07392374024,\n",
       " 3564.3508357534224,\n",
       " 4764.419894998947]"
      ]
     },
     "execution_count": 194,
     "metadata": {},
     "output_type": "execute_result"
    }
   ],
   "source": [
    "# 2-parameter with best fit parameters\n",
    "agb_pow_opt = []\n",
    "\n",
    "for i in dbh_mod:\n",
    "    agb_pow_opt_test = d2bagw_pow(i, agbpow_opt[0], agbpow_opt[1])\n",
    "    agb_pow_opt.append(agb_pow_opt_test)\n",
    "    \n",
    "# Check the output\n",
    "agb_pow_opt"
   ]
  },
  {
   "cell_type": "code",
   "execution_count": 216,
   "metadata": {},
   "outputs": [
    {
     "data": {
      "image/png": "[encoded data removed]",
      "text/plain": [
       "<Figure size 864x576 with 1 Axes>"
      ]
     },
     "metadata": {
      "needs_background": "light"
     },
     "output_type": "display_data"
    }
   ],
   "source": [
    "# Visually inspect the results from the curve fitting\n",
    "\n",
    "fig = plt.figure(figsize = (12,8))\n",
    "\n",
    "plt.plot(dbh_mod,choj_mod, c='k', alpha=0.3, label='\"Observed\": AGB by DBH (Chojnacky)')\n",
    "plt.plot(dbh_mod, agb_pow_opt,'r+', markersize=20, label ='Modeled AGB, 2-Param Power')\n",
    "#plt.plot(dbh_mod, sal_opt, 'bo', label ='Modeled AGB, Saldarriaga')\n",
    "plt.xlabel('dbh, (cm)')\n",
    "plt.ylabel('AGB, (kg)')\n",
    "plt.legend()\n",
    "plt.text(10,4010,\"Chojnacky: agb = ln(biomass)=B0+B1ln(dbh)\")\n",
    "plt.text(10,3750,\"B0= -2.6177, B1=2.4638\")\n",
    "plt.text(10,3250,\"2-param: agb = p1*dbh^p2/c2b\")\n",
    "plt.text(10,3000,\"p1= 0.145941, p2= 2.4638, c2b = 2\")\n",
    "plt.title(\"Above Ground Biomass (AGB) vs Diameter at Breast Height (dbh)\")\n",
    "plt.savefig(data_dir_out + 'd2bagw.png', edgecolor='black', bbox_inches='tight', pad_inches=0.25)\n",
    "plt.show()"
   ]
  },
  {
   "cell_type": "markdown",
   "metadata": {},
   "source": [
    "#### 2.3 Diameter to leaf biomass (d2blmax)\n",
    "Here I will use the 2-parameter power function from FATES, and the equation that Polly used in her Google sheet. "
   ]
  },
  {
   "cell_type": "code",
   "execution_count": 42,
   "metadata": {},
   "outputs": [],
   "source": [
    "# Define the 2-parameter power function (d2blmax)\n",
    "def d2blmax_pow(dbh,p1,p2):\n",
    "    blmax_pow = (p1*dbh**p2)/c2b\n",
    "    return blmax_pow\n",
    "\n",
    "# Define the function Polly used (d2blmax_polly)\n",
    "def d2blmax_polly(dbh,p1,p2,p3): # remove dbh_max to test\n",
    "    #if dbh<dbh_max:\n",
    "    #    blmax_polly = p1*dbh**p2*rho**p3\n",
    "    #else:\n",
    "    #    blmax_polly = p1*dbh_max**p2*rho**p3\n",
    "    blmax_polly = p1*dbh**p2*rho**p3  \n",
    "    return blmax_polly\n",
    "    "
   ]
  },
  {
   "cell_type": "code",
   "execution_count": 43,
   "metadata": {},
   "outputs": [
    {
     "name": "stdout",
     "output_type": "stream",
     "text": [
      "blmax_pow 37.15603546909527 blmax_polly 38.530823051536906\n"
     ]
    }
   ],
   "source": [
    "# Test the functions with the random parameters, dbh=50\n",
    "print(\"blmax_pow\",d2blmax_pow(50,0.065,1.8),\"blmax_polly\",d2blmax_polly(50,0.115,1.64,0.6))"
   ]
  },
  {
   "cell_type": "code",
   "execution_count": 44,
   "metadata": {},
   "outputs": [
    {
     "data": {
      "text/plain": [
       "array([0.0035437 , 2.59195465])"
      ]
     },
     "execution_count": 44,
     "metadata": {},
     "output_type": "execute_result"
    }
   ],
   "source": [
    "# Since we have data from baad, use the curve_fit tool to fit the 2-parameter power function.\n",
    "\n",
    "popt_bl_pow, pcov_blmax_pow = curve_fit(d2blmax_pow, dbh_mod, BLobs) \n",
    "\n",
    "# Check the results\n",
    "popt_bl_pow"
   ]
  },
  {
   "cell_type": "code",
   "execution_count": 45,
   "metadata": {},
   "outputs": [
    {
     "data": {
      "text/plain": [
       "array([0.0169186 , 2.59195304, 2.25099953])"
      ]
     },
     "execution_count": 45,
     "metadata": {},
     "output_type": "execute_result"
    }
   ],
   "source": [
    "# Since we have data from baad, use the curve_fit tool to fit the function Polly used.\n",
    "popt_bl_polly, pcov_bl_polly = curve_fit(d2blmax_polly, dbh_mod, BLobs) \n",
    "\n",
    "# Check the results\n",
    "popt_bl_polly"
   ]
  },
  {
   "cell_type": "code",
   "execution_count": 46,
   "metadata": {},
   "outputs": [
    {
     "data": {
      "text/plain": [
       "[0.6924387373696753,\n",
       " 4.174817103963221,\n",
       " 11.941476066090726,\n",
       " 25.17059908830448,\n",
       " 44.882796815476546,\n",
       " 71.99695198546858,\n",
       " 107.35867769516366,\n",
       " 151.7573207848331,\n",
       " 205.93713629988284]"
      ]
     },
     "execution_count": 46,
     "metadata": {},
     "output_type": "execute_result"
    }
   ],
   "source": [
    "# Calculate the modeled heights with the optimal parameters.\n",
    "blopt_pow = [] # height with popt\n",
    "\n",
    "for i in dbh_mod:\n",
    "    test = d2blmax_pow(i,popt_bl_pow[0],popt_bl_pow[1]) # Use params test code block\n",
    "    blopt_pow.append(test)\n",
    "\n",
    "blopt_pow"
   ]
  },
  {
   "cell_type": "code",
   "execution_count": 47,
   "metadata": {},
   "outputs": [
    {
     "data": {
      "text/plain": [
       "[0.6924381559849097,\n",
       " 4.174808935206183,\n",
       " 11.941444897536185,\n",
       " 25.17052172072565,\n",
       " 44.88264271762348,\n",
       " 71.9966836411493,\n",
       " 107.35825088148496,\n",
       " 151.75668480316497,\n",
       " 205.9362341725152]"
      ]
     },
     "execution_count": 47,
     "metadata": {},
     "output_type": "execute_result"
    }
   ],
   "source": [
    "# Calculate the modeled heights with the optimal parameters.\n",
    "blopt_polly = [] # height with popt\n",
    "\n",
    "for i in dbh_mod:\n",
    "    test = d2blmax_polly(i,popt_bl_polly[0],popt_bl_polly[1],popt_bl_polly[2]) # Use params from the test code block.\n",
    "    blopt_polly.append(test)\n",
    "\n",
    "blopt_polly"
   ]
  },
  {
   "cell_type": "code",
   "execution_count": 214,
   "metadata": {},
   "outputs": [
    {
     "data": {
      "image/png": "[encoded data removed]",
      "text/plain": [
       "<Figure size 864x576 with 1 Axes>"
      ]
     },
     "metadata": {
      "needs_background": "light"
     },
     "output_type": "display_data"
    }
   ],
   "source": [
    "# Visually inspect the modeled outputs.\n",
    "\n",
    "fig = plt.figure(figsize = (12,8))\n",
    "\n",
    "plt.scatter(DBH,BL,  c='k', alpha=0.3, marker ='o', label='Observed')\n",
    "plt.plot(dbh_mod,BLobs, c='b', label='Observed: Average Leaf Biomass at DBH')\n",
    "plt.plot(dbh_mod, blopt_pow, c='r', label ='Modeled Leaf Biomass: 2-param power')\n",
    "plt.plot(dbh_mod, blopt_polly, 'g*', markersize=10, label ='Modeled Leaf Biomass: Polly function')\n",
    "plt.xlabel('dbh, (cm)')\n",
    "plt.ylabel('Leaf Biomass, (kg)')\n",
    "plt.text(0,175,\"2-param: p1*dbh^p2/c2b\")\n",
    "plt.text(0,160, \"p1 = , p2 = , c2b = 2\")\n",
    "plt.text(0,125, \"Polly Func: p1 * dbh^p2 * rho^p3\")\n",
    "plt.text(0,110, \"rho=0.367, p1 = 0.0169, p2 = 2.592, p3 = 2.251\" )\n",
    "plt.title(\"Leaf Biomass vs Diameter at Breast Height (dbh)\")\n",
    "plt.legend()\n",
    "plt.savefig(data_dir_out + 'd2blmax.png', edgecolor='black', bbox_inches='tight', pad_inches=0.25)\n",
    "plt.show()"
   ]
  },
  {
   "cell_type": "code",
   "execution_count": 49,
   "metadata": {},
   "outputs": [],
   "source": [
    "# Want to see the observed BLMAX for the range of dbh.\n",
    "pipo_stats_blmax = []\n",
    "\n",
    "for i in dbh_mod:\n",
    "    mask =  (pipo['d.bh']>= ((i/100) - 0.05)) & (pipo['d.bh']<((i/100) + 0.05))\n",
    "    pipo_ = pipo.loc[mask].copy()\n",
    "    stats = pipo_['m.lf'].describe()\n",
    "    #stats = pd.DataFrame(stats)\n",
    "    pipo_stats_blmax.append(stats)"
   ]
  },
  {
   "cell_type": "code",
   "execution_count": 50,
   "metadata": {},
   "outputs": [],
   "source": [
    "#pipo_stats_blmax"
   ]
  },
  {
   "cell_type": "markdown",
   "metadata": {},
   "source": [
    "#### 2.4 Leaf Area (or diameter?) to Sapwood (d2bsap)\n",
    "Here I will use a liner function and baad data to determine the two parameters: fates_allom_la_per_sa_int and fates_allom_la_per_sa_slp"
   ]
  },
  {
   "cell_type": "code",
   "execution_count": 51,
   "metadata": {},
   "outputs": [],
   "source": [
    "# Set the variables from baad for leaf area ('a.lf') and\n",
    "# sapwood area at breast height ('a.ssbh')\n",
    "LF = pipo['a.lf'].values # units = m2\n",
    "#LF = pd.isna(pipo['a.lf'])\n",
    "SAP = pipo['a.ssbh'].values # units = m2\n",
    "#SAP = pd.isna(pipo['a.ssbh'])\n",
    "\n",
    "# Test dropping the nans\n",
    "LF_nan = pipo['a.lf'].fillna(0).values\n",
    "SAP_nan = pipo['a.ssbh'].fillna(0).values"
   ]
  },
  {
   "cell_type": "code",
   "execution_count": 52,
   "metadata": {},
   "outputs": [
    {
     "data": {
      "image/png": "[encoded data removed]",
      "text/plain": [
       "<Figure size 864x576 with 1 Axes>"
      ]
     },
     "metadata": {
      "needs_background": "light"
     },
     "output_type": "display_data"
    }
   ],
   "source": [
    "fig = plt.figure(figsize = (12,8))\n",
    "\n",
    "plt.scatter(LF,SAP,  c='k', alpha=0.3, marker ='o', label='Observed w/ nan')\n",
    "plt.scatter(LF_nan, SAP_nan, c='r', alpha=0.3, marker='o', label = 'Observed w/o nan')\n",
    "plt.xlabel('Leaf Area (m2)')\n",
    "plt.ylabel('Sapwood area at dbh (m2)')\n",
    "#plt.xticks(rotation=90)\n",
    "plt.legend()\n",
    "# extra plot specifics: title, x and y axis labels, etc.\n",
    "plt.show()"
   ]
  },
  {
   "cell_type": "code",
   "execution_count": 53,
   "metadata": {},
   "outputs": [],
   "source": [
    "# Import the polyfit function\n",
    "from numpy.polynomial.polynomial import polyfit"
   ]
  },
  {
   "cell_type": "code",
   "execution_count": 54,
   "metadata": {},
   "outputs": [
    {
     "data": {
      "image/png": "[encoded data removed]",
      "text/plain": [
       "<Figure size 432x288 with 1 Axes>"
      ]
     },
     "metadata": {
      "needs_background": "light"
     },
     "output_type": "display_data"
    }
   ],
   "source": [
    "# Fit with polyfit\n",
    "b,m = polyfit(LF_nan, SAP_nan,1)\n",
    "\n",
    "plt.scatter(LF_nan, SAP_nan, c='b', alpha=0.3, marker='o', label = 'Observed (badd)')\n",
    "plt.plot(LF_nan, b+m * LF_nan, '-')\n",
    "plt.show()"
   ]
  },
  {
   "cell_type": "code",
   "execution_count": 55,
   "metadata": {},
   "outputs": [
    {
     "name": "stdout",
     "output_type": "stream",
     "text": [
      "slope = 0.0003561237275241073  intercept = -0.00015616175961951455\n"
     ]
    }
   ],
   "source": [
    "print(\"slope =\", m,\" intercept =\", b)"
   ]
  },
  {
   "cell_type": "markdown",
   "metadata": {},
   "source": [
    "I think this is more of a log-linear model like the d2h."
   ]
  },
  {
   "cell_type": "code",
   "execution_count": 56,
   "metadata": {},
   "outputs": [],
   "source": [
    "def lf2sap(leafmod,p1,p2):\n",
    "    sapmod = 10**((np.log10(leafmod))*p1+p2)\n",
    "    return sapmod"
   ]
  },
  {
   "cell_type": "code",
   "execution_count": 57,
   "metadata": {},
   "outputs": [
    {
     "data": {
      "text/plain": [
       "[39.81071705534971,\n",
       " 64.67270065773575,\n",
       " 85.89836120408869,\n",
       " 105.06111217615067,\n",
       " 122.82280261157895,\n",
       " 139.54229946218894,\n",
       " 155.44209038050334,\n",
       " 170.67228025785937,\n",
       " 185.3402551702235,\n",
       " 199.52623149688787]"
      ]
     },
     "execution_count": 57,
     "metadata": {},
     "output_type": "execute_result"
    }
   ],
   "source": [
    "lf_mod = [100,200,300,400,500,600,700,800,900,1000]\n",
    "sap_mod = []\n",
    "\n",
    "for i in lf_mod:\n",
    "    test_sap = lf2sap(i, 0.7, 0.2)\n",
    "    sap_mod.append(test_sap)\n",
    "\n",
    "# Check the output\n",
    "sap_mod"
   ]
  },
  {
   "cell_type": "code",
   "execution_count": 69,
   "metadata": {},
   "outputs": [
    {
     "data": {
      "text/plain": [
       "array([ 0.75500846, -2.75687048])"
      ]
     },
     "execution_count": 69,
     "metadata": {},
     "output_type": "execute_result"
    }
   ],
   "source": [
    "SAP_obs = [sap_pipo_10['a.ssbh'].mean(),sap_pipo_20['a.ssbh'].mean(),\n",
    "           sap_pipo_30['a.ssbh'].mean(),sap_pipo_40['a.ssbh'].mean(),\n",
    "           sap_pipo_50['a.ssbh'].mean(),sap_pipo_60['a.ssbh'].mean(),\n",
    "           sap_pipo_70['a.ssbh'].mean(),sap_pipo_80['a.ssbh'].mean(),\n",
    "           sap_pipo_90['a.ssbh'].mean(),sap_pipo_100['a.ssbh'].mean()]\n",
    "\n",
    "# Use the curve fit to find the best params. Need to make a SAP_obs\n",
    "sapopt, sapcov = curve_fit(lf2sap, lf_mod, SAP_obs) \n",
    "\n",
    "# Check the results\n",
    "sapopt"
   ]
  },
  {
   "cell_type": "code",
   "execution_count": 70,
   "metadata": {},
   "outputs": [
    {
     "data": {
      "text/plain": [
       "[0.05662392890382532,\n",
       " 0.09556033129598178,\n",
       " 0.12978561138931402,\n",
       " 0.16127063406193423,\n",
       " 0.19086326696277692,\n",
       " 0.21903029800139015,\n",
       " 0.2460645329402,\n",
       " 0.2721654169467278,\n",
       " 0.2974767955842091,\n",
       " 0.32210687912834346]"
      ]
     },
     "execution_count": 70,
     "metadata": {},
     "output_type": "execute_result"
    }
   ],
   "source": [
    "# Model heights using the optimal parameters\n",
    "sapopt = [] # sap with sapopt\n",
    "\n",
    "for i in lf_mod:\n",
    "    test_sap = lf2sap(i, 0.755, -2.757)\n",
    "    sapopt.append(test_sap)\n",
    "\n",
    "sapopt"
   ]
  },
  {
   "cell_type": "code",
   "execution_count": 215,
   "metadata": {},
   "outputs": [
    {
     "data": {
      "image/png": "[encoded data removed]",
      "text/plain": [
       "<Figure size 864x576 with 1 Axes>"
      ]
     },
     "metadata": {
      "needs_background": "light"
     },
     "output_type": "display_data"
    }
   ],
   "source": [
    "# Visually inspect the results from the curve fitting\n",
    "\n",
    "fig = plt.figure(figsize = (12,8))\n",
    "\n",
    "plt.scatter(LF_nan,SAP_nan,  c='k', alpha=0.3, marker ='o', label='Observed')\n",
    "plt.plot(lf_mod,SAP_obs, c='b', label='Observed: Mean Sap Area at Leaf Area')\n",
    "plt.plot(lf_mod, sapopt, c='r', label ='Modeled SAP area')\n",
    "plt.xlabel('Leaf Area (m2)')\n",
    "plt.ylabel('SAP (m2)')\n",
    "#plt.xticks(rotation=90)\n",
    "plt.legend()\n",
    "plt.text(0,0.257,\"SAP = 10^log10(LF)*p1+p2\")\n",
    "plt.text(0,0.24,\"p1(intercept) = 0.755, p2(slope) = -2.756\")\n",
    "plt.title(\"Sapwood Area at dbh (SAP) vs Leaf Area\")\n",
    "plt.savefig(data_dir_out + 'lf2sap.png', edgecolor='black', bbox_inches='tight', pad_inches=0.25)\n",
    "plt.show()"
   ]
  },
  {
   "cell_type": "code",
   "execution_count": 59,
   "metadata": {},
   "outputs": [
    {
     "data": {
      "text/plain": [
       "0.028520599022982467"
      ]
     },
     "execution_count": 59,
     "metadata": {},
     "output_type": "execute_result"
    }
   ],
   "source": [
    "sap_mask10 = (pipo['a.lf'] >= 50) & (pipo['a.lf'] < 150)\n",
    "sap_pipo_10 = pipo.loc[sap_mask10].copy()\n",
    "sap_pipo_10['a.ssbh'].mean()"
   ]
  },
  {
   "cell_type": "code",
   "execution_count": 60,
   "metadata": {},
   "outputs": [
    {
     "data": {
      "text/plain": [
       "0.06153684422363637"
      ]
     },
     "execution_count": 60,
     "metadata": {},
     "output_type": "execute_result"
    }
   ],
   "source": [
    "sap_mask20 = (pipo['a.lf'] >= 150) & (pipo['a.lf'] < 250)\n",
    "sap_pipo_20 = pipo.loc[sap_mask20].copy()\n",
    "sap_pipo_20['a.ssbh'].mean()"
   ]
  },
  {
   "cell_type": "code",
   "execution_count": 61,
   "metadata": {},
   "outputs": [
    {
     "data": {
      "text/plain": [
       "0.09118494571833334"
      ]
     },
     "execution_count": 61,
     "metadata": {},
     "output_type": "execute_result"
    }
   ],
   "source": [
    "sap_mask30 = (pipo['a.lf'] >= 250) & (pipo['a.lf'] < 350)\n",
    "sap_pipo_30 = pipo.loc[sap_mask30].copy()\n",
    "sap_pipo_30['a.ssbh'].mean()"
   ]
  },
  {
   "cell_type": "code",
   "execution_count": 62,
   "metadata": {},
   "outputs": [
    {
     "data": {
      "text/plain": [
       "0.1812905004"
      ]
     },
     "execution_count": 62,
     "metadata": {},
     "output_type": "execute_result"
    }
   ],
   "source": [
    "sap_mask40 = (pipo['a.lf'] >= 350) & (pipo['a.lf'] < 450)\n",
    "sap_pipo_40 = pipo.loc[sap_mask40].copy()\n",
    "sap_pipo_40['a.ssbh'].mean()"
   ]
  },
  {
   "cell_type": "code",
   "execution_count": 63,
   "metadata": {},
   "outputs": [
    {
     "data": {
      "text/plain": [
       "0.233"
      ]
     },
     "execution_count": 63,
     "metadata": {},
     "output_type": "execute_result"
    }
   ],
   "source": [
    "sap_mask50 = (pipo['a.lf'] >= 450) & (pipo['a.lf'] < 550)\n",
    "sap_pipo_50 = pipo.loc[sap_mask50].copy()\n",
    "sap_pipo_50['a.ssbh'].mean()"
   ]
  },
  {
   "cell_type": "code",
   "execution_count": 64,
   "metadata": {},
   "outputs": [
    {
     "data": {
      "text/plain": [
       "0.2202630962"
      ]
     },
     "execution_count": 64,
     "metadata": {},
     "output_type": "execute_result"
    }
   ],
   "source": [
    "sap_mask60 = (pipo['a.lf'] >= 550) & (pipo['a.lf'] < 650)\n",
    "sap_pipo_60 = pipo.loc[sap_mask60].copy()\n",
    "sap_pipo_60['a.ssbh'].mean()"
   ]
  },
  {
   "cell_type": "code",
   "execution_count": 65,
   "metadata": {},
   "outputs": [
    {
     "data": {
      "text/plain": [
       "0.324"
      ]
     },
     "execution_count": 65,
     "metadata": {},
     "output_type": "execute_result"
    }
   ],
   "source": [
    "sap_mask70 = (pipo['a.lf'] >= 650) & (pipo['a.lf'] < 750)\n",
    "sap_pipo_70 = pipo.loc[sap_mask70].copy()\n",
    "sap_pipo_70['a.ssbh'].mean()"
   ]
  },
  {
   "cell_type": "code",
   "execution_count": 66,
   "metadata": {},
   "outputs": [
    {
     "data": {
      "text/plain": [
       "0.2875"
      ]
     },
     "execution_count": 66,
     "metadata": {},
     "output_type": "execute_result"
    }
   ],
   "source": [
    "sap_mask80 = (pipo['a.lf'] >= 750) & (pipo['a.lf'] < 850)\n",
    "sap_pipo_80 = pipo.loc[sap_mask80].copy()\n",
    "sap_pipo_80['a.ssbh'].mean()"
   ]
  },
  {
   "cell_type": "code",
   "execution_count": 67,
   "metadata": {},
   "outputs": [
    {
     "data": {
      "text/plain": [
       "0.251"
      ]
     },
     "execution_count": 67,
     "metadata": {},
     "output_type": "execute_result"
    }
   ],
   "source": [
    "sap_mask90 = (pipo['a.lf'] >= 850) & (pipo['a.lf'] < 950)\n",
    "sap_pipo_90 = pipo.loc[sap_mask90].copy()\n",
    "sap_pipo_90['a.ssbh'].mean()"
   ]
  },
  {
   "cell_type": "code",
   "execution_count": 68,
   "metadata": {},
   "outputs": [
    {
     "data": {
      "text/plain": [
       "0.2878062435"
      ]
     },
     "execution_count": 68,
     "metadata": {},
     "output_type": "execute_result"
    }
   ],
   "source": [
    "sap_mask100 = (pipo['a.lf'] >= 950) & (pipo['a.lf'] < 1050)\n",
    "sap_pipo_100 = pipo.loc[sap_mask100].copy()\n",
    "sap_pipo_100['a.ssbh'].mean()"
   ]
  },
  {
   "cell_type": "code",
   "execution_count": null,
   "metadata": {},
   "outputs": [],
   "source": []
  }
 ],
 "metadata": {
  "kernelspec": {
   "display_name": "Python 3",
   "language": "python",
   "name": "python3"
  },
  "language_info": {
   "codemirror_mode": {
    "name": "ipython",
    "version": 3
   },
   "file_extension": ".py",
   "mimetype": "text/x-python",
   "name": "python",
   "nbconvert_exporter": "python",
   "pygments_lexer": "ipython3",
   "version": "3.7.4"
  }
 },
 "nbformat": 4,
 "nbformat_minor": 2
}
